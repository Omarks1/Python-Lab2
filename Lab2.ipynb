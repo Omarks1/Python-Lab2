{
 "cells": [
  {
   "cell_type": "code",
   "execution_count": 9,
   "id": "56d3e941",
   "metadata": {},
   "outputs": [
    {
     "name": "stdout",
     "output_type": "stream",
     "text": [
      "I recommende it, it is good\n"
     ]
    }
   ],
   "source": [
    "movie1 = \"gladiator \"\n",
    "\n",
    "movie1_rate = 3 \n",
    "\n",
    "popularity_score = 72.65\n",
    "\n",
    "if movie1_rate >=4 and popularity_score >80 :\n",
    "    \n",
    "    print(\"Highly recommended\")\n",
    "        \n",
    "elif movie1_rate >=3 and popularity_score >70:\n",
    "    \n",
    "    print(\"I recommende it, it is good\")\n",
    "        \n",
    "elif movie1_rate <=2 and popularity_score >60:\n",
    "    \n",
    "    print(\"You should check it out\")      \n",
    "        \n",
    "else:\n",
    "    print(\"Don't watch it, it is a waste of time\")\n",
    "    "
   ]
  },
  {
   "cell_type": "code",
   "execution_count": null,
   "id": "ddf1f365",
   "metadata": {},
   "outputs": [],
   "source": []
  },
  {
   "cell_type": "code",
   "execution_count": null,
   "id": "26cc8851",
   "metadata": {},
   "outputs": [],
   "source": []
  },
  {
   "cell_type": "code",
   "execution_count": null,
   "id": "313f512c",
   "metadata": {},
   "outputs": [],
   "source": []
  }
 ],
 "metadata": {
  "kernelspec": {
   "display_name": "Python 3 (ipykernel)",
   "language": "python",
   "name": "python3"
  },
  "language_info": {
   "codemirror_mode": {
    "name": "ipython",
    "version": 3
   },
   "file_extension": ".py",
   "mimetype": "text/x-python",
   "name": "python",
   "nbconvert_exporter": "python",
   "pygments_lexer": "ipython3",
   "version": "3.10.9"
  }
 },
 "nbformat": 4,
 "nbformat_minor": 5
}
